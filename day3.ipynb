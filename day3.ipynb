{
 "cells": [
  {
   "cell_type": "code",
   "execution_count": 47,
   "metadata": {},
   "outputs": [],
   "source": [
    "import pandas as pd\n",
    "\n",
    "data = pd.read_csv(\"../data/day3_1.txt\", header=None, dtype=str, names=[\"Report\"])"
   ]
  },
  {
   "cell_type": "code",
   "execution_count": 48,
   "metadata": {},
   "outputs": [],
   "source": [
    "for i in range(1,13):\n",
    "    data[f\"bit_{i}\"] = data['Report'].str[i-1]\n",
    "#print(data.head())\n",
    "\n",
    "for i in range(1,13):\n",
    "    data[f\"bit_{i}\"] = pd.to_numeric(data[f\"bit_{i}\"])\n",
    "# print(data.head())"
   ]
  },
  {
   "cell_type": "code",
   "execution_count": 49,
   "metadata": {},
   "outputs": [
    {
     "name": "stdout",
     "output_type": "stream",
     "text": [
      "1000\n"
     ]
    },
    {
     "data": {
      "text/html": [
       "<div>\n",
       "<style scoped>\n",
       "    .dataframe tbody tr th:only-of-type {\n",
       "        vertical-align: middle;\n",
       "    }\n",
       "\n",
       "    .dataframe tbody tr th {\n",
       "        vertical-align: top;\n",
       "    }\n",
       "\n",
       "    .dataframe thead th {\n",
       "        text-align: right;\n",
       "    }\n",
       "</style>\n",
       "<table border=\"1\" class=\"dataframe\">\n",
       "  <thead>\n",
       "    <tr style=\"text-align: right;\">\n",
       "      <th></th>\n",
       "      <th>Report</th>\n",
       "      <th>bit_1</th>\n",
       "      <th>bit_2</th>\n",
       "      <th>bit_3</th>\n",
       "      <th>bit_4</th>\n",
       "      <th>bit_5</th>\n",
       "      <th>bit_6</th>\n",
       "      <th>bit_7</th>\n",
       "      <th>bit_8</th>\n",
       "      <th>bit_9</th>\n",
       "      <th>bit_10</th>\n",
       "      <th>bit_11</th>\n",
       "      <th>bit_12</th>\n",
       "    </tr>\n",
       "  </thead>\n",
       "  <tbody>\n",
       "    <tr>\n",
       "      <th>0</th>\n",
       "      <td>101001100010</td>\n",
       "      <td>1</td>\n",
       "      <td>0</td>\n",
       "      <td>1</td>\n",
       "      <td>0</td>\n",
       "      <td>0</td>\n",
       "      <td>1</td>\n",
       "      <td>1</td>\n",
       "      <td>0</td>\n",
       "      <td>0</td>\n",
       "      <td>0</td>\n",
       "      <td>1</td>\n",
       "      <td>0</td>\n",
       "    </tr>\n",
       "    <tr>\n",
       "      <th>1</th>\n",
       "      <td>010100001011</td>\n",
       "      <td>0</td>\n",
       "      <td>1</td>\n",
       "      <td>0</td>\n",
       "      <td>1</td>\n",
       "      <td>0</td>\n",
       "      <td>0</td>\n",
       "      <td>0</td>\n",
       "      <td>0</td>\n",
       "      <td>1</td>\n",
       "      <td>0</td>\n",
       "      <td>1</td>\n",
       "      <td>1</td>\n",
       "    </tr>\n",
       "    <tr>\n",
       "      <th>2</th>\n",
       "      <td>010010010101</td>\n",
       "      <td>0</td>\n",
       "      <td>1</td>\n",
       "      <td>0</td>\n",
       "      <td>0</td>\n",
       "      <td>1</td>\n",
       "      <td>0</td>\n",
       "      <td>0</td>\n",
       "      <td>1</td>\n",
       "      <td>0</td>\n",
       "      <td>1</td>\n",
       "      <td>0</td>\n",
       "      <td>1</td>\n",
       "    </tr>\n",
       "    <tr>\n",
       "      <th>3</th>\n",
       "      <td>110100011010</td>\n",
       "      <td>1</td>\n",
       "      <td>1</td>\n",
       "      <td>0</td>\n",
       "      <td>1</td>\n",
       "      <td>0</td>\n",
       "      <td>0</td>\n",
       "      <td>0</td>\n",
       "      <td>1</td>\n",
       "      <td>1</td>\n",
       "      <td>0</td>\n",
       "      <td>1</td>\n",
       "      <td>0</td>\n",
       "    </tr>\n",
       "    <tr>\n",
       "      <th>4</th>\n",
       "      <td>001100100001</td>\n",
       "      <td>0</td>\n",
       "      <td>0</td>\n",
       "      <td>1</td>\n",
       "      <td>1</td>\n",
       "      <td>0</td>\n",
       "      <td>0</td>\n",
       "      <td>1</td>\n",
       "      <td>0</td>\n",
       "      <td>0</td>\n",
       "      <td>0</td>\n",
       "      <td>0</td>\n",
       "      <td>1</td>\n",
       "    </tr>\n",
       "  </tbody>\n",
       "</table>\n",
       "</div>"
      ],
      "text/plain": [
       "         Report  bit_1  bit_2  bit_3  bit_4  bit_5  bit_6  bit_7  bit_8  \\\n",
       "0  101001100010      1      0      1      0      0      1      1      0   \n",
       "1  010100001011      0      1      0      1      0      0      0      0   \n",
       "2  010010010101      0      1      0      0      1      0      0      1   \n",
       "3  110100011010      1      1      0      1      0      0      0      1   \n",
       "4  001100100001      0      0      1      1      0      0      1      0   \n",
       "\n",
       "   bit_9  bit_10  bit_11  bit_12  \n",
       "0      0       0       1       0  \n",
       "1      1       0       1       1  \n",
       "2      0       1       0       1  \n",
       "3      1       0       1       0  \n",
       "4      0       0       0       1  "
      ]
     },
     "execution_count": 49,
     "metadata": {},
     "output_type": "execute_result"
    }
   ],
   "source": [
    "print(len(data))\n",
    "data.head()"
   ]
  },
  {
   "cell_type": "code",
   "execution_count": 65,
   "metadata": {},
   "outputs": [],
   "source": [
    "oxygen_filter = data\n",
    "count1 = 1"
   ]
  },
  {
   "cell_type": "code",
   "execution_count": 66,
   "metadata": {},
   "outputs": [
    {
     "name": "stdout",
     "output_type": "stream",
     "text": [
      "0\n",
      "           Report  bit_1  bit_2  bit_3  bit_4  bit_5  bit_6  bit_7  bit_8  \\\n",
      "1    010100001011      0      1      0      1      0      0      0      0   \n",
      "2    010010010101      0      1      0      0      1      0      0      1   \n",
      "4    001100100001      0      0      1      1      0      0      1      0   \n",
      "6    000000101100      0      0      0      0      0      0      1      0   \n",
      "7    001111000011      0      0      1      1      1      1      0      0   \n",
      "..            ...    ...    ...    ...    ...    ...    ...    ...    ...   \n",
      "992  010011000110      0      1      0      0      1      1      0      0   \n",
      "993  001110010110      0      0      1      1      1      0      0      1   \n",
      "994  010010011010      0      1      0      0      1      0      0      1   \n",
      "995  010011100111      0      1      0      0      1      1      1      0   \n",
      "999  010100000111      0      1      0      1      0      0      0      0   \n",
      "\n",
      "     bit_9  bit_10  bit_11  bit_12  \n",
      "1        1       0       1       1  \n",
      "2        0       1       0       1  \n",
      "4        0       0       0       1  \n",
      "6        1       1       0       0  \n",
      "7        0       0       1       1  \n",
      "..     ...     ...     ...     ...  \n",
      "992      0       1       1       0  \n",
      "993      0       1       1       0  \n",
      "994      1       0       1       0  \n",
      "995      0       1       1       1  \n",
      "999      0       1       1       1  \n",
      "\n",
      "[501 rows x 13 columns]\n"
     ]
    }
   ],
   "source": [
    "print(max(data[f\"bit_{count1}\"].mode().values))\n",
    "oxygen_filter = oxygen_filter[oxygen_filter[f\"bit_{count1}\"] == max(data[f\"bit_{count1}\"].mode().values)]\n",
    "count1 +=1\n",
    "print(oxygen_filter)"
   ]
  },
  {
   "cell_type": "code",
   "execution_count": 51,
   "metadata": {},
   "outputs": [],
   "source": [
    "co2_filter = data\n",
    "count2 = 1"
   ]
  },
  {
   "cell_type": "code",
   "execution_count": 60,
   "metadata": {},
   "outputs": [
    {
     "name": "stdout",
     "output_type": "stream",
     "text": [
      "           Report  bit_1  bit_2  bit_3  bit_4  bit_5  bit_6  bit_7  bit_8  \\\n",
      "885  111101000110      1      1      1      1      0      1      0      0   \n",
      "\n",
      "     bit_9  bit_10  bit_11  bit_12  \n",
      "885      0       1       1       0  \n"
     ]
    }
   ],
   "source": [
    "co2_filter = co2_filter[co2_filter[f\"bit_{count2}\"] != max(data[f\"bit_{count2}\"].mode().values)]\n",
    "count2 +=1\n",
    "print(co2_filter)"
   ]
  }
 ],
 "metadata": {
  "interpreter": {
   "hash": "0c945b699f24266411e03946592266fff42e047a4cb6ab77734e298634957190"
  },
  "kernelspec": {
   "display_name": "Python 3.8.6 64-bit ('3.8.6': pyenv)",
   "language": "python",
   "name": "python3"
  },
  "language_info": {
   "codemirror_mode": {
    "name": "ipython",
    "version": 3
   },
   "file_extension": ".py",
   "mimetype": "text/x-python",
   "name": "python",
   "nbconvert_exporter": "python",
   "pygments_lexer": "ipython3",
   "version": "3.8.6"
  },
  "orig_nbformat": 4
 },
 "nbformat": 4,
 "nbformat_minor": 2
}
