{
 "cells": [
  {
   "cell_type": "code",
   "execution_count": 7,
   "metadata": {},
   "outputs": [],
   "source": [
    "import numpy as np"
   ]
  },
  {
   "cell_type": "code",
   "execution_count": 8,
   "metadata": {},
   "outputs": [],
   "source": [
    "data = []\n",
    "with open(\"data/day4.txt\", \"r\") as input:\n",
    "    for l in input:\n",
    "        newline = l.rstrip()\n",
    "        line_contents = newline.split()\n",
    "        data.append(line_contents)"
   ]
  },
  {
   "cell_type": "code",
   "execution_count": 9,
   "metadata": {},
   "outputs": [],
   "source": [
    "# Take out the bingo calls\n",
    "calls = data[0][0].split(sep = \",\")\n",
    "calls = list(map(int, calls))"
   ]
  },
  {
   "cell_type": "code",
   "execution_count": 10,
   "metadata": {},
   "outputs": [],
   "source": [
    "# Build the bingo boards\n",
    "boards_raw = data[2:]\n",
    "board_set = []\n",
    "board_count = 0\n",
    "while board_count < len(boards_raw):\n",
    "    for i in range(board_count, board_count +5):\n",
    "        int_them = list(map(int, boards_raw[i]))\n",
    "        board_set.append(int_them)\n",
    "    board_count +=6"
   ]
  },
  {
   "cell_type": "code",
   "execution_count": 11,
   "metadata": {},
   "outputs": [],
   "source": [
    "# Make them numpy arrays\n",
    "board_arrays = []\n",
    "board_count = 0\n",
    "for board in board_set:\n",
    "    board_arrays.append(np.array(board_set[board_count:board_count +5]))\n",
    "    board_count +=5"
   ]
  },
  {
   "cell_type": "code",
   "execution_count": 12,
   "metadata": {},
   "outputs": [
    {
     "name": "stdout",
     "output_type": "stream",
     "text": [
      "WINNER, BOARD 15 [[ 0  5 38 41 95]\n",
      " [70  0 11 21 51]\n",
      " [81 20  0 14 83]\n",
      " [57 36 60 59 42]\n",
      " [ 0  0  0  0  0]]\n",
      "Last call: 77\n",
      "Winning sum: 784\n",
      "Winning score: 60368\n"
     ]
    }
   ],
   "source": [
    "for call in calls:\n",
    "    for index, board in enumerate(board_arrays):\n",
    "        for row in board:\n",
    "            for i in range(len(row)):\n",
    "                if row[i] == call:\n",
    "                    row[i] = 0\n",
    "                    if (sum(row) == 0) or (sum(board[:,i]) == 0):\n",
    "                        winning_board = board\n",
    "                        winning_sum = board.sum()\n",
    "                        last_call = call\n",
    "                        print(\"WINNER, BOARD\",index, board)\n",
    "                        print(\"Last call:\",last_call)\n",
    "                        print(\"Winning sum:\",winning_sum)\n",
    "                        print(\"Winning score:\", winning_sum * last_call)\n",
    "                        break\n",
    "                    else:\n",
    "                        continue\n",
    "                    break\n",
    "                else:\n",
    "                    continue\n",
    "                break\n",
    "            else:\n",
    "                continue\n",
    "            break\n",
    "        else:\n",
    "            continue\n",
    "        break\n",
    "    else:\n",
    "        continue\n",
    "    break"
   ]
  }
 ],
 "metadata": {
  "interpreter": {
   "hash": "cf25ec2838effe0e2971a35e20b51c96a815cd258f13f3194ae88e111a33b47c"
  },
  "kernelspec": {
   "display_name": "Python 3.8.6 64-bit ('venv': venv)",
   "language": "python",
   "name": "python3"
  },
  "language_info": {
   "codemirror_mode": {
    "name": "ipython",
    "version": 3
   },
   "file_extension": ".py",
   "mimetype": "text/x-python",
   "name": "python",
   "nbconvert_exporter": "python",
   "pygments_lexer": "ipython3",
   "version": "3.8.6"
  },
  "orig_nbformat": 4
 },
 "nbformat": 4,
 "nbformat_minor": 2
}
