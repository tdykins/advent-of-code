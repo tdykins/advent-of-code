{
 "cells": [
  {
   "cell_type": "code",
   "execution_count": 2,
   "metadata": {},
   "outputs": [],
   "source": [
    "# from functions import get_input\n",
    "# get_input(\"https://adventofcode.com/2021/day/5/input\", \"day5.txt\")"
   ]
  },
  {
   "cell_type": "code",
   "execution_count": 21,
   "metadata": {},
   "outputs": [],
   "source": [
    "import re"
   ]
  },
  {
   "cell_type": "code",
   "execution_count": 22,
   "metadata": {},
   "outputs": [],
   "source": [
    "data = []\n",
    "with open(\"data/day5.txt\", \"r\") as input:\n",
    "    for line in input:\n",
    "        newline = line.strip()\n",
    "        coord_pair = re.split(\"\\s->\\s|,|\\s\",newline)\n",
    "        coord_pair = tuple(map(int,coord_pair))\n",
    "        data.append(coord_pair)"
   ]
  },
  {
   "cell_type": "code",
   "execution_count": 23,
   "metadata": {},
   "outputs": [
    {
     "name": "stdout",
     "output_type": "stream",
     "text": [
      "500\n"
     ]
    }
   ],
   "source": [
    "print(len(data))"
   ]
  },
  {
   "cell_type": "code",
   "execution_count": 45,
   "metadata": {},
   "outputs": [],
   "source": [
    "# Given a pair of coords and a dict, \n",
    "# adds all points along the connecting line to the dict\n",
    "# where index = coords, value +=1\n",
    "\n",
    "def count_points(coords: tuple, tracker: dict, diagonals: bool):\n",
    "    # If both x and y coords are the same, it's just one point\n",
    "    if (coords[0] == coords[2]) & (coords[1] == coords[3]):\n",
    "        if f\"{coords[0]},{coords[1]}\" not in tracker:\n",
    "            tracker[f\"{coords[0]},{coords[1]}\"] = 1\n",
    "        else: tracker[f\"{coords[0]},{coords[1]}\"] += 1\n",
    "\n",
    "    # If the x coords are the same (vertical line)...\n",
    "    if coords[0] == coords[2]:\n",
    "        # then if the second y coord is greater than the first...\n",
    "        if coords[3] > coords[1]:\n",
    "            # work up through the points on the line\n",
    "            for y in range(coords[1], coords[3]+1):\n",
    "                if f\"{coords[0]},{y}\" not in tracker:\n",
    "                    tracker[f\"{coords[0]},{y}\"] = 1\n",
    "                else: tracker[f\"{coords[0]},{y}\"] += 1\n",
    "        # but if the first y coord is greater than the second...\n",
    "        if coords[1] > coords[3]:\n",
    "            # work down through the points on the line\n",
    "            for y in range(coords[3], coords[1]+1):\n",
    "                if f\"{coords[0]},{y}\" not in tracker:\n",
    "                    tracker[f\"{coords[0]},{y}\"] = 1\n",
    "                else: tracker[f\"{coords[0]},{y}\"] += 1\n",
    "\n",
    "    # If the y coords are the same (horizontal line)...\n",
    "    if (coords[1] == coords[3]):\n",
    "        # then if the second x coord is greater than the first...\n",
    "        if coords[2] > coords[0]:\n",
    "            # work right through the points on the line...\n",
    "            for x in range(coords[0], coords[2]+1):\n",
    "                if f\"{x},{coords[1]}\" not in tracker:\n",
    "                    tracker[f\"{x},{coords[1]}\"] = 1\n",
    "                else: tracker[f\"{x},{coords[1]}\"] += 1\n",
    "        #but if the first x coord is greater than the first...\n",
    "        if coords[0] > coords[2]:\n",
    "            # work left through the points on the line...\n",
    "            for x in range(coords[2], coords[0]+1):\n",
    "                if f\"{x},{coords[1]}\" not in tracker:\n",
    "                    tracker[f\"{x},{coords[1]}\"] = 1\n",
    "                else: tracker[f\"{x},{coords[1]}\"] += 1\n",
    "\n",
    "    if diagonals & (coords[0] < coords[2]) & (coords[1] < coords[3]):\n",
    "        for x,y in zip(range(coords[0], coords[2]+1), range(coords[1], coords[3]+1)):\n",
    "            if f\"{x},{y}\" not in tracker:\n",
    "                tracker[f\"{x},{y}\"] = 1\n",
    "            else: tracker[f\"{x},{y}\"] += 1\n",
    "    \n",
    "    if diagonals & (coords[0] > coords[2]) & (coords[1] > coords[3]):\n",
    "        for x,y in zip(range(coords[2], coords[0]+1), range(coords[3], coords[1]+1)):\n",
    "            if f\"{x},{y}\" not in tracker:\n",
    "                tracker[f\"{x},{y}\"] = 1\n",
    "            else: tracker[f\"{x},{y}\"] += 1\n",
    "\n",
    "    if diagonals & (coords[0] < coords[2]) & (coords[1] > coords[3]):\n",
    "        for x,y in zip(range(coords[0], coords[2]+1), range(coords[1], coords[3]-1, -1)):\n",
    "            if f\"{x},{y}\" not in tracker:\n",
    "                tracker[f\"{x},{y}\"] = 1\n",
    "            else: tracker[f\"{x},{y}\"] += 1\n",
    "    \n",
    "    if diagonals & (coords[0] > coords[2]) & (coords[1] < coords[3]):\n",
    "        for x,y in zip(range(coords[0], coords[2]-1, -1), range(coords[1], coords[3]+1)):\n",
    "            if f\"{x},{y}\" not in tracker:\n",
    "                tracker[f\"{x},{y}\"] = 1\n",
    "            else: tracker[f\"{x},{y}\"] += 1\n",
    "\n",
    "    return tracker\n",
    "            \n",
    "\n"
   ]
  },
  {
   "cell_type": "code",
   "execution_count": 26,
   "metadata": {},
   "outputs": [
    {
     "name": "stdout",
     "output_type": "stream",
     "text": [
      "{'0,5': 1, '0,6': 1, '0,7': 1, '0,8': 1, '0,9': 1}\n"
     ]
    }
   ],
   "source": [
    "# Test\n",
    "test_tracker = {}\n",
    "test_count_points = count_points((0,5,0,9), test_tracker, False)\n",
    "print(test_tracker)"
   ]
  },
  {
   "cell_type": "code",
   "execution_count": 27,
   "metadata": {},
   "outputs": [
    {
     "name": "stdout",
     "output_type": "stream",
     "text": [
      "{'0,5': 2, '0,6': 1, '0,7': 1, '0,8': 1, '0,9': 1, '1,5': 1, '2,5': 1, '3,5': 1, '4,5': 1, '5,5': 1, '6,5': 1}\n"
     ]
    }
   ],
   "source": [
    "# Test 2\n",
    "count_points((6,5,0,5), test_tracker, False)\n",
    "print(test_tracker)"
   ]
  },
  {
   "cell_type": "code",
   "execution_count": 28,
   "metadata": {},
   "outputs": [
    {
     "name": "stdout",
     "output_type": "stream",
     "text": [
      "{'0,5': 3, '0,6': 1, '0,7': 1, '0,8': 1, '0,9': 1, '1,5': 1, '2,5': 1, '3,5': 1, '4,5': 1, '5,5': 1, '6,5': 1}\n"
     ]
    }
   ],
   "source": [
    "# Test 3\n",
    "count_points((0,5,0,5), test_tracker, False)\n",
    "print(test_tracker)"
   ]
  },
  {
   "cell_type": "code",
   "execution_count": 29,
   "metadata": {},
   "outputs": [],
   "source": [
    "# Part1\n",
    "results = {}\n",
    "for coord_pair in data:\n",
    "    count_points(coord_pair, results, False)\n"
   ]
  },
  {
   "cell_type": "code",
   "execution_count": 30,
   "metadata": {},
   "outputs": [
    {
     "name": "stdout",
     "output_type": "stream",
     "text": [
      "[('899,53', 1), ('899,54', 1), ('899,55', 1), ('899,56', 1), ('899,57', 1), ('899,58', 1), ('899,59', 1), ('899,60', 1), ('899,61', 1), ('899,62', 1), ('899,63', 1), ('460,309', 1), ('460,310', 1), ('460,311', 1), ('460,312', 1), ('460,313', 1), ('460,314', 1), ('460,315', 1), ('460,316', 1), ('460,317', 1)]\n"
     ]
    }
   ],
   "source": [
    "# Results look ok?\n",
    "print(list(results.items())[0:20])"
   ]
  },
  {
   "cell_type": "code",
   "execution_count": 31,
   "metadata": {},
   "outputs": [
    {
     "data": {
      "text/plain": [
       "7318"
      ]
     },
     "execution_count": 31,
     "metadata": {},
     "output_type": "execute_result"
    }
   ],
   "source": [
    "# How many points appear more than once?\n",
    "sum(i>1 for i in results.values())"
   ]
  },
  {
   "cell_type": "code",
   "execution_count": 46,
   "metadata": {},
   "outputs": [],
   "source": [
    "# Part2\n",
    "results_2 = {}\n",
    "for coord_pair in data:\n",
    "    count_points(coord_pair, results_2, True)"
   ]
  },
  {
   "cell_type": "code",
   "execution_count": 47,
   "metadata": {},
   "outputs": [
    {
     "data": {
      "text/plain": [
       "19939"
      ]
     },
     "execution_count": 47,
     "metadata": {},
     "output_type": "execute_result"
    }
   ],
   "source": [
    "# How many points appear more than once?\n",
    "sum(i>1 for i in results_2.values())"
   ]
  }
 ],
 "metadata": {
  "interpreter": {
   "hash": "cf25ec2838effe0e2971a35e20b51c96a815cd258f13f3194ae88e111a33b47c"
  },
  "kernelspec": {
   "display_name": "Python 3.8.6 64-bit ('venv': venv)",
   "language": "python",
   "name": "python3"
  },
  "language_info": {
   "codemirror_mode": {
    "name": "ipython",
    "version": 3
   },
   "file_extension": ".py",
   "mimetype": "text/x-python",
   "name": "python",
   "nbconvert_exporter": "python",
   "pygments_lexer": "ipython3",
   "version": "3.8.6"
  },
  "orig_nbformat": 4
 },
 "nbformat": 4,
 "nbformat_minor": 2
}
