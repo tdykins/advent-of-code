{
 "cells": [
  {
   "cell_type": "code",
   "execution_count": 2,
   "metadata": {},
   "outputs": [],
   "source": [
    "# from functions import get_input\n",
    "# get_input(\"https://adventofcode.com/2021/day/5/input\", \"day5.txt\")"
   ]
  },
  {
   "cell_type": "code",
   "execution_count": 21,
   "metadata": {},
   "outputs": [],
   "source": [
    "import re"
   ]
  },
  {
   "cell_type": "code",
   "execution_count": 22,
   "metadata": {},
   "outputs": [],
   "source": [
    "data = []\n",
    "with open(\"data/day5.txt\", \"r\") as input:\n",
    "    for line in input:\n",
    "        newline = line.strip()\n",
    "        coord_pair = re.split(\"\\s->\\s|,|\\s\",newline)\n",
    "        coord_pair = tuple(map(int,coord_pair))\n",
    "        data.append(coord_pair)"
   ]
  },
  {
   "cell_type": "code",
   "execution_count": 23,
   "metadata": {},
   "outputs": [
    {
     "name": "stdout",
     "output_type": "stream",
     "text": [
      "500\n"
     ]
    }
   ],
   "source": [
    "print(len(data))"
   ]
  },
  {
   "cell_type": "code",
   "execution_count": 45,
   "metadata": {},
   "outputs": [],
   "source": [
    "# Given a pair of coords and a dict, \n",
    "# adds all points along the connecting line to the dict\n",
    "# where index = coords, value +=1\n",
    "\n",
    "def count_points(coords: tuple, tracker: dict, diagonals: bool):\n",
    "    # If both x and y coords are the same, it's just one point\n",
    "    if (coords[0] == coords[2]) & (coords[1] == coords[3]):\n",
    "        if f\"{coords[0]},{coords[1]}\" not in tracker:\n",
    "            tracker[f\"{coords[0]},{coords[1]}\"] = 1\n",
    "        else: tracker[f\"{coords[0]},{coords[1]}\"] += 1\n",
    "\n",
    "    # If the x coords are the same (vertical line)...\n",
    "    if coords[0] == coords[2]:\n",
    "        # then if the second y coord is greater than the first...\n",
    "        if coords[3] > coords[1]:\n",
    "            # work up through the points on the line\n",
    "            for y in range(coords[1], coords[3]+1):\n",
    "                if f\"{coords[0]},{y}\" not in tracker:\n",
    "                    tracker[f\"{coords[0]},{y}\"] = 1\n",
    "                else: tracker[f\"{coords[0]},{y}\"] += 1\n",
    "        # but if the first y coord is greater than the second...\n",
    "        if coords[1] > coords[3]:\n",
    "            # work down through the points on the line\n",
    "            for y in range(coords[3], coords[1]+1):\n",
    "                if f\"{coords[0]},{y}\" not in tracker:\n",
    "                    tracker[f\"{coords[0]},{y}\"] = 1\n",
    "                else: tracker[f\"{coords[0]},{y}\"] += 1\n",
    "\n",
    "    # If the y coords are the same (horizontal line)...\n",
    "    if (coords[1] == coords[3]):\n",
    "        # then if the second x coord is greater than the first...\n",
    "        if coords[2] > coords[0]:\n",
    "            # work right through the points on the line...\n",
    "            for x in range(coords[0], coords[2]+1):\n",
    "                if f\"{x},{coords[1]}\" not in tracker:\n",
    "                    tracker[f\"{x},{coords[1]}\"] = 1\n",
    "                else: tracker[f\"{x},{coords[1]}\"] += 1\n",
    "        #but if the first x coord is greater than the first...\n",
    "        if coords[0] > coords[2]:\n",
    "            # work left through the points on the line...\n",
    "            for x in range(coords[2], coords[0]+1):\n",
    "                if f\"{x},{coords[1]}\" not in tracker:\n",
    "                    tracker[f\"{x},{coords[1]}\"] = 1\n",
    "                else: tracker[f\"{x},{coords[1]}\"] += 1\n",
    "\n",
    "    if diagonals & (coords[0] < coords[2]) & (coords[1] < coords[3]):\n",
    "        for x,y in zip(range(coords[0], coords[2]+1), range(coords[1], coords[3]+1)):\n",
    "            if f\"{x},{y}\" not in tracker:\n",
    "                tracker[f\"{x},{y}\"] = 1\n",
    "            else: tracker[f\"{x},{y}\"] += 1\n",
    "    \n",
    "    if diagonals & (coords[0] > coords[2]) & (coords[1] > coords[3]):\n",
    "        for x,y in zip(range(coords[2], coords[0]+1), range(coords[3], coords[1]+1)):\n",
    "            if f\"{x},{y}\" not in tracker:\n",
    "                tracker[f\"{x},{y}\"] = 1\n",
    "            else: tracker[f\"{x},{y}\"] += 1\n",
    "\n",
    "    if diagonals & (coords[0] < coords[2]) & (coords[1] > coords[3]):\n",
    "        for x,y in zip(range(coords[0], coords[2]+1), range(coords[1], coords[3]-1, -1)):\n",
    "            if f\"{x},{y}\" not in tracker:\n",
    "                tracker[f\"{x},{y}\"] = 1\n",
    "            else: tracker[f\"{x},{y}\"] += 1\n",
    "    \n",
    "    if diagonals & (coords[0] > coords[2]) & (coords[1] < coords[3]):\n",
    "        for x,y in zip(range(coords[0], coords[2]-1, -1), range(coords[1], coords[3]+1)):\n",
    "            if f\"{x},{y}\" not in tracker:\n",
    "                tracker[f\"{x},{y}\"] = 1\n",
    "            else: tracker[f\"{x},{y}\"] += 1\n",
    "\n",
    "    return tracker\n",
    "            \n",
    "\n"
   ]
  },
  {
   "cell_type": "code",
   "execution_count": 44,
   "metadata": {},
   "outputs": [
    {
     "data": {
      "text/plain": [
       "{'364,644': 1,\n",
       " '365,645': 1,\n",
       " '366,646': 1,\n",
       " '367,647': 1,\n",
       " '368,648': 1,\n",
       " '369,649': 1,\n",
       " '370,650': 1,\n",
       " '371,651': 1,\n",
       " '372,652': 1,\n",
       " '373,653': 1,\n",
       " '374,654': 1,\n",
       " '375,655': 1,\n",
       " '376,656': 1,\n",
       " '377,657': 1,\n",
       " '378,658': 1,\n",
       " '379,659': 1,\n",
       " '380,660': 1,\n",
       " '381,661': 1,\n",
       " '382,662': 1,\n",
       " '383,663': 1,\n",
       " '384,664': 1,\n",
       " '385,665': 1,\n",
       " '386,666': 1,\n",
       " '387,667': 1,\n",
       " '388,668': 1,\n",
       " '389,669': 1,\n",
       " '390,670': 1,\n",
       " '391,671': 1,\n",
       " '392,672': 1,\n",
       " '393,673': 1,\n",
       " '394,674': 1,\n",
       " '395,675': 1,\n",
       " '396,676': 1,\n",
       " '397,677': 1,\n",
       " '398,678': 1,\n",
       " '399,679': 1,\n",
       " '400,680': 1,\n",
       " '401,681': 1,\n",
       " '402,682': 1,\n",
       " '403,683': 1,\n",
       " '404,684': 1,\n",
       " '405,685': 1,\n",
       " '406,686': 1,\n",
       " '407,687': 1,\n",
       " '408,688': 1,\n",
       " '409,689': 1,\n",
       " '410,690': 1,\n",
       " '411,691': 1,\n",
       " '412,692': 1,\n",
       " '413,693': 1,\n",
       " '414,694': 1,\n",
       " '415,695': 1,\n",
       " '416,696': 1,\n",
       " '417,697': 1,\n",
       " '418,698': 1,\n",
       " '419,699': 1,\n",
       " '420,700': 1,\n",
       " '421,701': 1,\n",
       " '422,702': 1,\n",
       " '423,703': 1,\n",
       " '424,704': 1,\n",
       " '425,705': 1,\n",
       " '426,706': 1,\n",
       " '427,707': 1,\n",
       " '428,708': 1,\n",
       " '429,709': 1,\n",
       " '430,710': 1,\n",
       " '431,711': 1,\n",
       " '432,712': 1,\n",
       " '433,713': 1,\n",
       " '434,714': 1,\n",
       " '435,715': 1,\n",
       " '436,716': 1,\n",
       " '437,717': 1,\n",
       " '438,718': 1,\n",
       " '439,719': 1,\n",
       " '440,720': 1,\n",
       " '441,721': 1,\n",
       " '442,722': 1,\n",
       " '443,723': 1,\n",
       " '444,724': 1,\n",
       " '445,725': 1,\n",
       " '446,726': 1,\n",
       " '447,727': 1,\n",
       " '448,728': 1,\n",
       " '449,729': 1,\n",
       " '450,730': 1,\n",
       " '451,731': 1,\n",
       " '452,732': 1,\n",
       " '453,733': 1,\n",
       " '454,734': 1,\n",
       " '455,735': 1,\n",
       " '456,736': 1,\n",
       " '457,737': 1,\n",
       " '458,738': 1,\n",
       " '459,739': 1,\n",
       " '460,740': 1,\n",
       " '461,741': 1,\n",
       " '462,742': 1,\n",
       " '463,743': 1,\n",
       " '464,744': 1,\n",
       " '465,745': 1,\n",
       " '466,746': 1,\n",
       " '467,747': 1,\n",
       " '468,748': 1,\n",
       " '469,749': 1,\n",
       " '470,750': 1,\n",
       " '471,751': 1,\n",
       " '472,752': 1,\n",
       " '473,753': 1,\n",
       " '474,754': 1,\n",
       " '475,755': 1,\n",
       " '476,756': 1,\n",
       " '477,757': 1,\n",
       " '478,758': 1,\n",
       " '479,759': 1,\n",
       " '480,760': 1,\n",
       " '481,761': 1,\n",
       " '482,762': 1,\n",
       " '483,763': 1,\n",
       " '484,764': 1,\n",
       " '485,765': 1,\n",
       " '486,766': 1,\n",
       " '487,767': 1,\n",
       " '488,768': 1,\n",
       " '489,769': 1,\n",
       " '490,770': 1,\n",
       " '491,771': 1,\n",
       " '492,772': 1,\n",
       " '493,773': 1,\n",
       " '494,774': 1,\n",
       " '495,775': 1,\n",
       " '496,776': 1,\n",
       " '497,777': 1,\n",
       " '498,778': 1,\n",
       " '499,779': 1,\n",
       " '500,780': 1,\n",
       " '501,781': 1,\n",
       " '502,782': 1,\n",
       " '503,783': 1,\n",
       " '504,784': 1,\n",
       " '505,785': 1,\n",
       " '506,786': 1,\n",
       " '507,787': 1,\n",
       " '508,788': 1,\n",
       " '509,789': 1,\n",
       " '510,790': 1,\n",
       " '511,791': 1,\n",
       " '512,792': 1,\n",
       " '513,793': 1,\n",
       " '514,794': 1,\n",
       " '515,795': 1,\n",
       " '516,796': 1,\n",
       " '517,797': 1,\n",
       " '518,798': 1,\n",
       " '519,799': 1,\n",
       " '520,800': 1,\n",
       " '521,801': 1,\n",
       " '522,802': 1,\n",
       " '523,803': 1,\n",
       " '524,804': 1,\n",
       " '525,805': 1,\n",
       " '526,806': 1,\n",
       " '527,807': 1,\n",
       " '528,808': 1,\n",
       " '529,809': 1,\n",
       " '530,810': 1,\n",
       " '531,811': 1,\n",
       " '532,812': 1,\n",
       " '533,813': 1,\n",
       " '534,814': 1,\n",
       " '535,815': 1,\n",
       " '536,816': 1,\n",
       " '537,817': 1,\n",
       " '538,818': 1,\n",
       " '539,819': 1,\n",
       " '540,820': 1,\n",
       " '541,821': 1,\n",
       " '542,822': 1,\n",
       " '543,823': 1,\n",
       " '544,824': 1,\n",
       " '545,825': 1,\n",
       " '546,826': 1,\n",
       " '547,827': 1,\n",
       " '548,828': 1,\n",
       " '549,829': 1,\n",
       " '550,830': 1,\n",
       " '551,831': 1,\n",
       " '552,832': 1,\n",
       " '553,833': 1,\n",
       " '554,834': 1,\n",
       " '555,835': 1,\n",
       " '556,836': 1,\n",
       " '557,837': 1,\n",
       " '558,838': 1,\n",
       " '559,839': 1,\n",
       " '560,840': 1,\n",
       " '561,841': 1,\n",
       " '562,842': 1,\n",
       " '563,843': 1,\n",
       " '564,844': 1,\n",
       " '565,845': 1,\n",
       " '566,846': 1,\n",
       " '567,847': 1,\n",
       " '568,848': 1,\n",
       " '569,849': 1,\n",
       " '570,850': 1,\n",
       " '571,851': 1,\n",
       " '572,852': 1,\n",
       " '573,853': 1,\n",
       " '574,854': 1,\n",
       " '575,855': 1,\n",
       " '576,856': 1,\n",
       " '577,857': 1,\n",
       " '578,858': 1,\n",
       " '579,859': 1,\n",
       " '580,860': 1,\n",
       " '581,861': 1,\n",
       " '582,862': 1,\n",
       " '583,863': 1,\n",
       " '584,864': 1,\n",
       " '585,865': 1,\n",
       " '586,866': 1,\n",
       " '587,867': 1,\n",
       " '588,868': 1,\n",
       " '589,869': 1,\n",
       " '590,870': 1,\n",
       " '591,871': 1}"
      ]
     },
     "execution_count": 44,
     "metadata": {},
     "output_type": "execute_result"
    }
   ],
   "source": [
    "#591,871 -> 364,644\n",
    "z={}\n",
    "for x,y in zip(range(364,592), range(644,872)):\n",
    "    if f\"{x},{y}\" not in z:\n",
    "        z[f\"{x},{y}\"] = 1\n",
    "    else: z[f\"{x},{y}\"] += 1\n",
    "z\n",
    "\n"
   ]
  },
  {
   "cell_type": "code",
   "execution_count": null,
   "metadata": {},
   "outputs": [],
   "source": [
    "z={}\n",
    "for x,y in zip(range(1,4), range(1,4)):\n",
    "    if f\"{x},{y}\" not in z:\n",
    "        z[f\"{x},{y}\"] = 1\n",
    "    else: z[f\"{x},{y}\"] += 1"
   ]
  },
  {
   "cell_type": "code",
   "execution_count": 26,
   "metadata": {},
   "outputs": [
    {
     "name": "stdout",
     "output_type": "stream",
     "text": [
      "{'0,5': 1, '0,6': 1, '0,7': 1, '0,8': 1, '0,9': 1}\n"
     ]
    }
   ],
   "source": [
    "# Test\n",
    "test_tracker = {}\n",
    "test_count_points = count_points((0,5,0,9), test_tracker, False)\n",
    "print(test_tracker)"
   ]
  },
  {
   "cell_type": "code",
   "execution_count": 27,
   "metadata": {},
   "outputs": [
    {
     "name": "stdout",
     "output_type": "stream",
     "text": [
      "{'0,5': 2, '0,6': 1, '0,7': 1, '0,8': 1, '0,9': 1, '1,5': 1, '2,5': 1, '3,5': 1, '4,5': 1, '5,5': 1, '6,5': 1}\n"
     ]
    }
   ],
   "source": [
    "# Test 2\n",
    "count_points((6,5,0,5), test_tracker, False)\n",
    "print(test_tracker)"
   ]
  },
  {
   "cell_type": "code",
   "execution_count": 28,
   "metadata": {},
   "outputs": [
    {
     "name": "stdout",
     "output_type": "stream",
     "text": [
      "{'0,5': 3, '0,6': 1, '0,7': 1, '0,8': 1, '0,9': 1, '1,5': 1, '2,5': 1, '3,5': 1, '4,5': 1, '5,5': 1, '6,5': 1}\n"
     ]
    }
   ],
   "source": [
    "# Test 3\n",
    "count_points((0,5,0,5), test_tracker, False)\n",
    "print(test_tracker)"
   ]
  },
  {
   "cell_type": "code",
   "execution_count": 29,
   "metadata": {},
   "outputs": [],
   "source": [
    "# Part1\n",
    "results = {}\n",
    "for coord_pair in data:\n",
    "    count_points(coord_pair, results, False)\n"
   ]
  },
  {
   "cell_type": "code",
   "execution_count": 30,
   "metadata": {},
   "outputs": [
    {
     "name": "stdout",
     "output_type": "stream",
     "text": [
      "[('899,53', 1), ('899,54', 1), ('899,55', 1), ('899,56', 1), ('899,57', 1), ('899,58', 1), ('899,59', 1), ('899,60', 1), ('899,61', 1), ('899,62', 1), ('899,63', 1), ('460,309', 1), ('460,310', 1), ('460,311', 1), ('460,312', 1), ('460,313', 1), ('460,314', 1), ('460,315', 1), ('460,316', 1), ('460,317', 1)]\n"
     ]
    }
   ],
   "source": [
    "# Results look ok?\n",
    "print(list(results.items())[0:20])"
   ]
  },
  {
   "cell_type": "code",
   "execution_count": 31,
   "metadata": {},
   "outputs": [
    {
     "data": {
      "text/plain": [
       "7318"
      ]
     },
     "execution_count": 31,
     "metadata": {},
     "output_type": "execute_result"
    }
   ],
   "source": [
    "# How many points appear more than once?\n",
    "sum(i>1 for i in results.values())"
   ]
  },
  {
   "cell_type": "code",
   "execution_count": 46,
   "metadata": {},
   "outputs": [],
   "source": [
    "# Part2\n",
    "results_2 = {}\n",
    "for coord_pair in data:\n",
    "    count_points(coord_pair, results_2, True)"
   ]
  },
  {
   "cell_type": "code",
   "execution_count": 47,
   "metadata": {},
   "outputs": [
    {
     "data": {
      "text/plain": [
       "19939"
      ]
     },
     "execution_count": 47,
     "metadata": {},
     "output_type": "execute_result"
    }
   ],
   "source": [
    "# How many points appear more than once?\n",
    "sum(i>1 for i in results_2.values())"
   ]
  }
 ],
 "metadata": {
  "interpreter": {
   "hash": "cf25ec2838effe0e2971a35e20b51c96a815cd258f13f3194ae88e111a33b47c"
  },
  "kernelspec": {
   "display_name": "Python 3.8.6 64-bit ('venv': venv)",
   "language": "python",
   "name": "python3"
  },
  "language_info": {
   "codemirror_mode": {
    "name": "ipython",
    "version": 3
   },
   "file_extension": ".py",
   "mimetype": "text/x-python",
   "name": "python",
   "nbconvert_exporter": "python",
   "pygments_lexer": "ipython3",
   "version": "3.8.6"
  },
  "orig_nbformat": 4
 },
 "nbformat": 4,
 "nbformat_minor": 2
}
