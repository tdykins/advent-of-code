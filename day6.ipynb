{
 "cells": [
  {
   "cell_type": "code",
   "execution_count": 1,
   "metadata": {},
   "outputs": [],
   "source": [
    "from functions import get_input\n",
    "get_input(\"https://adventofcode.com/2021/day/6/input\", \"day6.txt\")"
   ]
  },
  {
   "cell_type": "code",
   "execution_count": 2,
   "metadata": {},
   "outputs": [],
   "source": [
    "with open(\"data/day6.txt\", \"r\") as input:\n",
    "    for l in input:\n",
    "        newline = l.rstrip()\n",
    "        line_contents = newline.split(sep=\",\")\n",
    "        data = line_contents"
   ]
  },
  {
   "cell_type": "code",
   "execution_count": 3,
   "metadata": {},
   "outputs": [],
   "source": [
    "data = list(map(int,data))"
   ]
  },
  {
   "cell_type": "code",
   "execution_count": 4,
   "metadata": {},
   "outputs": [
    {
     "data": {
      "text/plain": [
       "300"
      ]
     },
     "execution_count": 4,
     "metadata": {},
     "output_type": "execute_result"
    }
   ],
   "source": [
    "len(data)"
   ]
  },
  {
   "cell_type": "code",
   "execution_count": 184,
   "metadata": {},
   "outputs": [],
   "source": [
    "all_fish = {\"all\": [], \"old\": [], \"new\": []}\n",
    "all_fish[\"old\"] += data"
   ]
  },
  {
   "cell_type": "code",
   "execution_count": 183,
   "metadata": {},
   "outputs": [],
   "source": [
    "def fish_birthday(fish: dict, days: int):\n",
    "\n",
    "    count = 0\n",
    "\n",
    "    while count < days:\n",
    "        \n",
    "        fish[\"old\"] = fish[\"old\"] + fish[\"new\"]\n",
    "        fish[\"new\"] = []\n",
    "\n",
    "        for index, countdown in enumerate(fish[\"old\"]):\n",
    "            if countdown == 0:\n",
    "                fish[\"new\"].append(6)\n",
    "                fish[\"new\"].append(8)\n",
    "        \n",
    "        fish[\"old\"] = [x for x in fish[\"old\"] if x != 0]\n",
    "        \n",
    "        for index, countdown in enumerate(fish[\"old\"]):\n",
    "            fish[\"old\"][index] = countdown -1\n",
    "\n",
    "        fish[\"all\"] = fish[\"old\"] + fish[\"new\"]\n",
    "                         \n",
    "        # print(fish[\"old\"])\n",
    "        # print(fish[\"new\"])\n",
    "        # print(fish[\"all\"])\n",
    "        count+=1        \n",
    "        print(len(fish[\"all\"]),\"fish after\",count,\"day(s)\")\n",
    "    "
   ]
  },
  {
   "cell_type": "code",
   "execution_count": 180,
   "metadata": {},
   "outputs": [],
   "source": [
    "test_data = {\"all\": [], \"old\": [3,4,3,1,2], \"new\": []}"
   ]
  },
  {
   "cell_type": "code",
   "execution_count": 181,
   "metadata": {},
   "outputs": [
    {
     "name": "stdout",
     "output_type": "stream",
     "text": [
      "[2, 3, 2, 0, 1]\n",
      "5 fish after 1 day(s)\n",
      "[1, 2, 1, 0, 6, 8]\n",
      "6 fish after 2 day(s)\n",
      "[0, 1, 0, 5, 7, 6, 8]\n",
      "7 fish after 3 day(s)\n",
      "[0, 4, 6, 5, 7, 6, 8, 6, 8]\n",
      "9 fish after 4 day(s)\n",
      "[3, 5, 4, 6, 5, 7, 5, 7, 6, 8]\n",
      "10 fish after 5 day(s)\n",
      "[2, 4, 3, 5, 4, 6, 4, 6, 5, 7]\n",
      "10 fish after 6 day(s)\n",
      "[1, 3, 2, 4, 3, 5, 3, 5, 4, 6]\n",
      "10 fish after 7 day(s)\n",
      "[0, 2, 1, 3, 2, 4, 2, 4, 3, 5]\n",
      "10 fish after 8 day(s)\n",
      "[1, 0, 2, 1, 3, 1, 3, 2, 4, 6, 8]\n",
      "11 fish after 9 day(s)\n",
      "[0, 1, 0, 2, 0, 2, 1, 3, 5, 7, 6, 8]\n",
      "12 fish after 10 day(s)\n",
      "[0, 1, 1, 0, 2, 4, 6, 5, 7, 6, 8, 6, 8, 6, 8]\n",
      "15 fish after 11 day(s)\n",
      "[0, 0, 1, 3, 5, 4, 6, 5, 7, 5, 7, 5, 7, 6, 8, 6, 8]\n",
      "17 fish after 12 day(s)\n",
      "[0, 2, 4, 3, 5, 4, 6, 4, 6, 4, 6, 5, 7, 5, 7, 6, 8, 6, 8]\n",
      "19 fish after 13 day(s)\n",
      "[1, 3, 2, 4, 3, 5, 3, 5, 3, 5, 4, 6, 4, 6, 5, 7, 5, 7, 6, 8]\n",
      "20 fish after 14 day(s)\n",
      "[0, 2, 1, 3, 2, 4, 2, 4, 2, 4, 3, 5, 3, 5, 4, 6, 4, 6, 5, 7]\n",
      "20 fish after 15 day(s)\n",
      "[1, 0, 2, 1, 3, 1, 3, 1, 3, 2, 4, 2, 4, 3, 5, 3, 5, 4, 6, 6, 8]\n",
      "21 fish after 16 day(s)\n",
      "[0, 1, 0, 2, 0, 2, 0, 2, 1, 3, 1, 3, 2, 4, 2, 4, 3, 5, 5, 7, 6, 8]\n",
      "22 fish after 17 day(s)\n",
      "[0, 1, 1, 1, 0, 2, 0, 2, 1, 3, 1, 3, 2, 4, 4, 6, 5, 7, 6, 8, 6, 8, 6, 8, 6, 8]\n",
      "26 fish after 18 day(s)\n"
     ]
    }
   ],
   "source": [
    "fish_birthday(test_data,18)"
   ]
  },
  {
   "cell_type": "code",
   "execution_count": 155,
   "metadata": {},
   "outputs": [
    {
     "name": "stdout",
     "output_type": "stream",
     "text": [
      "5 fish after 1 day(s)\n"
     ]
    }
   ],
   "source": [
    "fish_birthday(test_data,1)"
   ]
  },
  {
   "cell_type": "code",
   "execution_count": 185,
   "metadata": {},
   "outputs": [
    {
     "name": "stdout",
     "output_type": "stream",
     "text": [
      "300 fish after 1 day(s)\n",
      "386 fish after 2 day(s)\n",
      "444 fish after 3 day(s)\n",
      "495 fish after 4 day(s)\n",
      "551 fish after 5 day(s)\n",
      "600 fish after 6 day(s)\n",
      "600 fish after 7 day(s)\n",
      "600 fish after 8 day(s)\n",
      "686 fish after 9 day(s)\n",
      "744 fish after 10 day(s)\n",
      "881 fish after 11 day(s)\n",
      "995 fish after 12 day(s)\n",
      "1095 fish after 13 day(s)\n",
      "1151 fish after 14 day(s)\n",
      "1200 fish after 15 day(s)\n",
      "1286 fish after 16 day(s)\n",
      "1344 fish after 17 day(s)\n",
      "1567 fish after 18 day(s)\n",
      "1739 fish after 19 day(s)\n",
      "1976 fish after 20 day(s)\n",
      "2146 fish after 21 day(s)\n",
      "2295 fish after 22 day(s)\n",
      "2437 fish after 23 day(s)\n",
      "2544 fish after 24 day(s)\n",
      "2853 fish after 25 day(s)\n",
      "3083 fish after 26 day(s)\n",
      "3543 fish after 27 day(s)\n",
      "3885 fish after 28 day(s)\n",
      "4271 fish after 29 day(s)\n",
      "4583 fish after 30 day(s)\n",
      "4839 fish after 31 day(s)\n",
      "5290 fish after 32 day(s)\n",
      "5627 fish after 33 day(s)\n",
      "6396 fish after 34 day(s)\n",
      "6968 fish after 35 day(s)\n",
      "7814 fish after 36 day(s)\n",
      "8468 fish after 37 day(s)\n",
      "9110 fish after 38 day(s)\n",
      "9873 fish after 39 day(s)\n",
      "10466 fish after 40 day(s)\n",
      "11686 fish after 41 day(s)\n",
      "12595 fish after 42 day(s)\n",
      "14210 fish after 43 day(s)\n",
      "15436 fish after 44 day(s)\n",
      "16924 fish after 45 day(s)\n",
      "18341 fish after 46 day(s)\n",
      "19576 fish after 47 day(s)\n",
      "21559 fish after 48 day(s)\n",
      "23061 fish after 49 day(s)\n",
      "25896 fish after 50 day(s)\n",
      "28031 fish after 51 day(s)\n",
      "31134 fish after 52 day(s)\n",
      "33777 fish after 53 day(s)\n",
      "36500 fish after 54 day(s)\n",
      "39900 fish after 55 day(s)\n",
      "42637 fish after 56 day(s)\n",
      "47455 fish after 57 day(s)\n",
      "51092 fish after 58 day(s)\n",
      "57030 fish after 59 day(s)\n",
      "61808 fish after 60 day(s)\n",
      "67634 fish after 61 day(s)\n",
      "73677 fish after 62 day(s)\n",
      "79137 fish after 63 day(s)\n",
      "87355 fish after 64 day(s)\n",
      "93729 fish after 65 day(s)\n",
      "104485 fish after 66 day(s)\n",
      "112900 fish after 67 day(s)\n",
      "124664 fish after 68 day(s)\n",
      "135485 fish after 69 day(s)\n",
      "146771 fish after 70 day(s)\n",
      "161032 fish after 71 day(s)\n",
      "172866 fish after 72 day(s)\n",
      "191840 fish after 73 day(s)\n",
      "206629 fish after 74 day(s)\n",
      "229149 fish after 75 day(s)\n",
      "248385 fish after 76 day(s)\n",
      "271435 fish after 77 day(s)\n",
      "296517 fish after 78 day(s)\n",
      "319637 fish after 79 day(s)\n",
      "352872 fish after 80 day(s)\n",
      "379495 fish after 81 day(s)\n",
      "420989 fish after 82 day(s)\n",
      "455014 fish after 83 day(s)\n",
      "500584 fish after 84 day(s)\n",
      "544902 fish after 85 day(s)\n",
      "591072 fish after 86 day(s)\n",
      "649389 fish after 87 day(s)\n",
      "699132 fish after 88 day(s)\n",
      "773861 fish after 89 day(s)\n",
      "834509 fish after 90 day(s)\n",
      "921573 fish after 91 day(s)\n",
      "999916 fish after 92 day(s)\n",
      "1091656 fish after 93 day(s)\n",
      "1194291 fish after 94 day(s)\n",
      "1290204 fish after 95 day(s)\n",
      "1423250 fish after 96 day(s)\n",
      "1533641 fish after 97 day(s)\n",
      "1695434 fish after 98 day(s)\n",
      "1834425 fish after 99 day(s)\n",
      "2013229 fish after 100 day(s)\n",
      "2194207 fish after 101 day(s)\n",
      "2381860 fish after 102 day(s)\n",
      "2617541 fish after 103 day(s)\n",
      "2823845 fish after 104 day(s)\n",
      "3118684 fish after 105 day(s)\n",
      "3368066 fish after 106 day(s)\n",
      "3708663 fish after 107 day(s)\n",
      "4028632 fish after 108 day(s)\n",
      "4395089 fish after 109 day(s)\n",
      "4811748 fish after 110 day(s)\n",
      "5205705 fish after 111 day(s)\n",
      "5736225 fish after 112 day(s)\n",
      "6191911 fish after 113 day(s)\n",
      "6827347 fish after 114 day(s)\n",
      "7396698 fish after 115 day(s)\n",
      "8103752 fish after 116 day(s)\n",
      "8840380 fish after 117 day(s)\n",
      "9600794 fish after 118 day(s)\n",
      "10547973 fish after 119 day(s)\n",
      "11397616 fish after 120 day(s)\n",
      "12563572 fish after 121 day(s)\n",
      "13588609 fish after 122 day(s)\n",
      "14931099 fish after 123 day(s)\n",
      "16237078 fish after 124 day(s)\n",
      "17704546 fish after 125 day(s)\n",
      "19388353 fish after 126 day(s)\n",
      "20998410 fish after 127 day(s)\n",
      "23111545 fish after 128 day(s)\n",
      "24986225 fish after 129 day(s)\n",
      "27494671 fish after 130 day(s)\n",
      "29825687 fish after 131 day(s)\n",
      "32635645 fish after 132 day(s)\n",
      "35625431 fish after 133 day(s)\n",
      "38702956 fish after 134 day(s)\n",
      "42499898 fish after 135 day(s)\n",
      "45984635 fish after 136 day(s)\n",
      "50606216 fish after 137 day(s)\n",
      "54811912 fish after 138 day(s)\n",
      "60130316 fish after 139 day(s)\n",
      "65451118 fish after 140 day(s)\n",
      "71338601 fish after 141 day(s)\n",
      "78125329 fish after 142 day(s)\n",
      "84687591 fish after 143 day(s)\n",
      "93106114 fish after 144 day(s)\n",
      "100796547 fish after 145 day(s)\n",
      "110736532 fish after 146 day(s)\n",
      "120263030 fish after 147 day(s)\n",
      "131468917 fish after 148 day(s)\n",
      "143576447 fish after 149 day(s)\n",
      "156026192 fish after 150 day(s)\n",
      "171231443 fish after 151 day(s)\n",
      "185484138 fish after 152 day(s)\n",
      "203842646 fish after 153 day(s)\n",
      "221059577 fish after 154 day(s)\n",
      "242205449 fish after 155 day(s)\n",
      "263839477 fish after 156 day(s)\n",
      "287495109 fish after 157 day(s)\n",
      "314807890 fish after 158 day(s)\n",
      "341510330 fish after 159 day(s)\n",
      "375074089 fish after 160 day(s)\n",
      "406543715 fish after 161 day(s)\n",
      "446048095 fish after 162 day(s)\n",
      "484899054 fish after 163 day(s)\n",
      "529700558 fish after 164 day(s)\n",
      "578647367 fish after 165 day(s)\n",
      "629005439 fish after 166 day(s)\n",
      "689881979 fish after 167 day(s)\n",
      "748054045 fish after 168 day(s)\n",
      "821122184 fish after 169 day(s)\n"
     ]
    },
    {
     "ename": "KeyboardInterrupt",
     "evalue": "",
     "output_type": "error",
     "traceback": [
      "\u001b[0;31m---------------------------------------------------------------------------\u001b[0m",
      "\u001b[0;31mKeyboardInterrupt\u001b[0m                         Traceback (most recent call last)",
      "\u001b[0;32m<ipython-input-185-6c858664d58f>\u001b[0m in \u001b[0;36m<module>\u001b[0;34m\u001b[0m\n\u001b[0;32m----> 1\u001b[0;31m \u001b[0mfish_birthday\u001b[0m\u001b[0;34m(\u001b[0m\u001b[0mall_fish\u001b[0m\u001b[0;34m,\u001b[0m\u001b[0;36m256\u001b[0m\u001b[0;34m)\u001b[0m\u001b[0;34m\u001b[0m\u001b[0;34m\u001b[0m\u001b[0m\n\u001b[0m",
      "\u001b[0;32m<ipython-input-183-5f9b14150dc5>\u001b[0m in \u001b[0;36mfish_birthday\u001b[0;34m(fish, days)\u001b[0m\n\u001b[1;32m     16\u001b[0m \u001b[0;34m\u001b[0m\u001b[0m\n\u001b[1;32m     17\u001b[0m         \u001b[0;32mfor\u001b[0m \u001b[0mindex\u001b[0m\u001b[0;34m,\u001b[0m \u001b[0mcountdown\u001b[0m \u001b[0;32min\u001b[0m \u001b[0menumerate\u001b[0m\u001b[0;34m(\u001b[0m\u001b[0mfish\u001b[0m\u001b[0;34m[\u001b[0m\u001b[0;34m\"old\"\u001b[0m\u001b[0;34m]\u001b[0m\u001b[0;34m)\u001b[0m\u001b[0;34m:\u001b[0m\u001b[0;34m\u001b[0m\u001b[0;34m\u001b[0m\u001b[0m\n\u001b[0;32m---> 18\u001b[0;31m             \u001b[0mfish\u001b[0m\u001b[0;34m[\u001b[0m\u001b[0;34m\"old\"\u001b[0m\u001b[0;34m]\u001b[0m\u001b[0;34m[\u001b[0m\u001b[0mindex\u001b[0m\u001b[0;34m]\u001b[0m \u001b[0;34m=\u001b[0m \u001b[0mcountdown\u001b[0m \u001b[0;34m-\u001b[0m\u001b[0;36m1\u001b[0m\u001b[0;34m\u001b[0m\u001b[0;34m\u001b[0m\u001b[0m\n\u001b[0m\u001b[1;32m     19\u001b[0m \u001b[0;34m\u001b[0m\u001b[0m\n\u001b[1;32m     20\u001b[0m         \u001b[0mfish\u001b[0m\u001b[0;34m[\u001b[0m\u001b[0;34m\"all\"\u001b[0m\u001b[0;34m]\u001b[0m \u001b[0;34m=\u001b[0m \u001b[0mfish\u001b[0m\u001b[0;34m[\u001b[0m\u001b[0;34m\"old\"\u001b[0m\u001b[0;34m]\u001b[0m \u001b[0;34m+\u001b[0m \u001b[0mfish\u001b[0m\u001b[0;34m[\u001b[0m\u001b[0;34m\"new\"\u001b[0m\u001b[0;34m]\u001b[0m\u001b[0;34m\u001b[0m\u001b[0;34m\u001b[0m\u001b[0m\n",
      "\u001b[0;31mKeyboardInterrupt\u001b[0m: "
     ]
    }
   ],
   "source": [
    "fish_birthday(all_fish,256)"
   ]
  },
  {
   "cell_type": "code",
   "execution_count": 36,
   "metadata": {},
   "outputs": [],
   "source": [
    "tracker = {\"0\":0,\"1\":0,\"2\":0,\"3\":0,\"4\":0,\"5\":0,\"6\":0,\"7\":0,\"8\":0}\n",
    "for x in data:\n",
    "    if f\"{x}\" not in tracker:\n",
    "        tracker[f\"{x}\"] = 1\n",
    "    else:\n",
    "        tracker[f\"{x}\"] +=1"
   ]
  },
  {
   "cell_type": "code",
   "execution_count": 37,
   "metadata": {},
   "outputs": [
    {
     "name": "stdout",
     "output_type": "stream",
     "text": [
      "1604361182149 after 256 days\n"
     ]
    }
   ],
   "source": [
    "days = 256\n",
    "count = 0\n",
    "while count < days:\n",
    "    #new_fish = tracker[\"0\"]\n",
    "    tracker_values = list(tracker.values())\n",
    "    tracker[\"0\"] = tracker_values[1]\n",
    "    tracker[\"1\"] = tracker_values[2]\n",
    "    tracker[\"2\"] = tracker_values[3]\n",
    "    tracker[\"3\"] = tracker_values[4]\n",
    "    tracker[\"4\"] = tracker_values[5]\n",
    "    tracker[\"5\"] = tracker_values[6]\n",
    "    tracker[\"6\"] = tracker_values[7]\n",
    "    tracker[\"7\"] = tracker_values[8]\n",
    "    tracker[\"8\"] = 0\n",
    "\n",
    "    tracker[\"6\"] += tracker_values[0]\n",
    "    tracker[\"8\"] += tracker_values[0]\n",
    "    count+=1\n",
    "\n",
    "print(sum(tracker.values()),\"after\",count,\"days\")\n",
    "    \n"
   ]
  },
  {
   "cell_type": "code",
   "execution_count": 28,
   "metadata": {},
   "outputs": [
    {
     "data": {
      "text/plain": [
       "{'0': 58, '1': 51, '2': 56, '3': 49, '4': 0, '5': 0, '6': 86, '7': 0, '8': 86}"
      ]
     },
     "execution_count": 28,
     "metadata": {},
     "output_type": "execute_result"
    }
   ],
   "source": [
    "tracker"
   ]
  },
  {
   "cell_type": "code",
   "execution_count": 31,
   "metadata": {},
   "outputs": [
    {
     "data": {
      "text/plain": [
       "{'0': 51,\n",
       " '1': 56,\n",
       " '2': 49,\n",
       " '3': 0,\n",
       " '4': 0,\n",
       " '5': 86,\n",
       " '6': 58,\n",
       " '7': 86,\n",
       " '8': 144}"
      ]
     },
     "execution_count": 31,
     "metadata": {},
     "output_type": "execute_result"
    }
   ],
   "source": [
    "tracker\n"
   ]
  },
  {
   "cell_type": "code",
   "execution_count": 29,
   "metadata": {},
   "outputs": [
    {
     "data": {
      "text/plain": [
       "386"
      ]
     },
     "execution_count": 29,
     "metadata": {},
     "output_type": "execute_result"
    }
   ],
   "source": [
    "sum(tracker.values())"
   ]
  }
 ],
 "metadata": {
  "interpreter": {
   "hash": "aee8b7b246df8f9039afb4144a1f6fd8d2ca17a180786b69acc140d282b71a49"
  },
  "kernelspec": {
   "display_name": "Python 3.9.7 64-bit",
   "language": "python",
   "name": "python3"
  },
  "language_info": {
   "codemirror_mode": {
    "name": "ipython",
    "version": 3
   },
   "file_extension": ".py",
   "mimetype": "text/x-python",
   "name": "python",
   "nbconvert_exporter": "python",
   "pygments_lexer": "ipython3",
   "version": "3.8.9"
  },
  "orig_nbformat": 4
 },
 "nbformat": 4,
 "nbformat_minor": 2
}
