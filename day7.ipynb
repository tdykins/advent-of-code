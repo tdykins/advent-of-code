{
 "cells": [
  {
   "cell_type": "code",
   "execution_count": 1,
   "metadata": {},
   "outputs": [],
   "source": [
    "from functions import get_input\n",
    "get_input(\"https://adventofcode.com/2021/day/7/input\", \"day7.txt\")"
   ]
  },
  {
   "cell_type": "code",
   "execution_count": 8,
   "metadata": {},
   "outputs": [],
   "source": [
    "import math"
   ]
  },
  {
   "cell_type": "code",
   "execution_count": 2,
   "metadata": {},
   "outputs": [],
   "source": [
    "with open(\"data/day7.txt\", \"r\") as input:\n",
    "    for l in input:\n",
    "        newline = l.rstrip()\n",
    "        line_contents = newline.split(sep=\",\")\n",
    "        data = line_contents"
   ]
  },
  {
   "cell_type": "code",
   "execution_count": 4,
   "metadata": {},
   "outputs": [],
   "source": [
    "data = list(map(int,data))"
   ]
  },
  {
   "cell_type": "code",
   "execution_count": 5,
   "metadata": {},
   "outputs": [
    {
     "data": {
      "text/plain": [
       "1000"
      ]
     },
     "execution_count": 5,
     "metadata": {},
     "output_type": "execute_result"
    }
   ],
   "source": [
    "len(data)"
   ]
  },
  {
   "cell_type": "code",
   "execution_count": 46,
   "metadata": {},
   "outputs": [],
   "source": [
    "def fuel_cost_part1(vals: list, align: int):\n",
    "    return [math.fabs(align-v) for v in vals]\n",
    "\n",
    "def fuel_cost_part2(vals: list, align: int):\n",
    "    return [((math.fabs(align-v)**2) + (math.fabs(align-v))) / 2  for v in vals]"
   ]
  },
  {
   "cell_type": "code",
   "execution_count": 33,
   "metadata": {},
   "outputs": [
    {
     "name": "stdout",
     "output_type": "stream",
     "text": [
      "Fuel cost 344735.0 at alignment 336\n"
     ]
    }
   ],
   "source": [
    "# Part 1\n",
    "lowest = min(data)\n",
    "cost = sum(fuel_cost_part1(data,lowest))\n",
    "\n",
    "for alignment in range(min(data),max(data)):\n",
    "    x = sum(fuel_cost_part1(data,alignment))\n",
    "    if x < cost:\n",
    "        cost = x\n",
    "        lowest = alignment\n",
    "\n",
    "print('Fuel cost',cost,'at alignment',lowest)"
   ]
  },
  {
   "cell_type": "code",
   "execution_count": 48,
   "metadata": {},
   "outputs": [
    {
     "name": "stdout",
     "output_type": "stream",
     "text": [
      "Fuel cost 96798233.0 at alignment 474\n"
     ]
    }
   ],
   "source": [
    "# Part 2\n",
    "lowest = min(data)\n",
    "cost = sum(fuel_cost_part2(data,lowest))\n",
    "\n",
    "for alignment in range(min(data),max(data)):\n",
    "    x = sum(fuel_cost_part2(data,alignment))\n",
    "    if x < cost:\n",
    "        cost = x\n",
    "        lowest = alignment\n",
    "\n",
    "print('Fuel cost',cost,'at alignment',lowest)\n"
   ]
  }
 ],
 "metadata": {
  "interpreter": {
   "hash": "31f2aee4e71d21fbe5cf8b01ff0e069b9275f58929596ceb00d14d90e3e16cd6"
  },
  "kernelspec": {
   "display_name": "Python 3.8.9 64-bit",
   "language": "python",
   "name": "python3"
  },
  "language_info": {
   "codemirror_mode": {
    "name": "ipython",
    "version": 3
   },
   "file_extension": ".py",
   "mimetype": "text/x-python",
   "name": "python",
   "nbconvert_exporter": "python",
   "pygments_lexer": "ipython3",
   "version": "3.8.9"
  },
  "orig_nbformat": 4
 },
 "nbformat": 4,
 "nbformat_minor": 2
}
