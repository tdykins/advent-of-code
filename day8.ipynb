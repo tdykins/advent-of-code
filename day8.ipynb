{
 "cells": [
  {
   "cell_type": "code",
   "execution_count": 1,
   "metadata": {},
   "outputs": [],
   "source": [
    "from functions import get_input\n",
    "get_input(\"https://adventofcode.com/2021/day/8/input\", \"day8.txt\")"
   ]
  },
  {
   "cell_type": "code",
   "execution_count": 215,
   "metadata": {},
   "outputs": [],
   "source": [
    "data = []\n",
    "with open(\"data/day8.txt\", \"r\") as input:\n",
    "    for l in input:\n",
    "        newline = l.rstrip()\n",
    "        line_contents = tuple(newline.split(sep=\"|\"))\n",
    "        data.append(line_contents)"
   ]
  },
  {
   "cell_type": "code",
   "execution_count": 288,
   "metadata": {},
   "outputs": [],
   "source": [
    "data_tups = []\n",
    "for i in range(0,len(data)):\n",
    "    x = data[i][0].split()\n",
    "    y = data[i][1].split()\n",
    "    x = [\"\".join(sorted(letters)) for letters in x]\n",
    "    y = [\"\".join(sorted(letters)) for letters in y]\n",
    "    z = (x,y)\n",
    "    data_tups.append(z)\n"
   ]
  },
  {
   "cell_type": "code",
   "execution_count": 60,
   "metadata": {},
   "outputs": [
    {
     "name": "stdout",
     "output_type": "stream",
     "text": [
      "445\n"
     ]
    }
   ],
   "source": [
    "# Part 1\n",
    "x = 0\n",
    "for i in range(0,len(data_tups)):\n",
    "    for pattern in data_tups[i][1]:\n",
    "        if ((len(pattern) == 2) | (len(pattern) ==4) | (len(pattern) == 3) | (len(pattern) == 7)):\n",
    "            x+=1\n",
    "print(x)\n"
   ]
  },
  {
   "cell_type": "code",
   "execution_count": 290,
   "metadata": {},
   "outputs": [],
   "source": [
    "# Start working out the mappings from strings to numbers 0-9\n",
    "for i in range(0,len(data_tups)):\n",
    "    char_count ={}\n",
    "    readings={}\n",
    "    # count how many times each character appears across each set of 10\n",
    "    # provides info we can use later\n",
    "    for reading in data_tups[i][0]:\n",
    "        for char in reading:\n",
    "            if char not in char_count:\n",
    "                char_count[char] = 1\n",
    "            else:\n",
    "                char_count[char] +=1\n",
    "        # assign the ones we know based on string length\n",
    "        if len(reading) == 2:\n",
    "            readings[reading] = 1\n",
    "        if len(reading) == 4:\n",
    "            readings[reading] = 4\n",
    "        if len(reading) == 3:\n",
    "            readings[reading] = 7\n",
    "        if len(reading) == 7:\n",
    "            readings[reading] = 8\n",
    "    char_count = {value:key for key,value in char_count.items()}\n",
    "    data_tups[i] = (data_tups[i][0], data_tups[i][1],\n",
    "                    readings,\n",
    "                    {'b': char_count[6], 'e': char_count[4], 'f': char_count[9]})\n",
    "        \n",
    "    \n",
    "\n"
   ]
  },
  {
   "cell_type": "code",
   "execution_count": 291,
   "metadata": {},
   "outputs": [],
   "source": [
    "# Now work out 2, 3, 5 and 9 based on combinations string lengths\n",
    "# plus the character counts obtained in previous step\n",
    "for i in range(0,len(data_tups)):\n",
    "    for reading in data_tups[i][0]:\n",
    "        if ((len(reading) == 5) & \n",
    "            (data_tups[i][3]['e'] in reading)):   \n",
    "                data_tups[i][2][f\"{reading}\"] = 2\n",
    "        if ((len(reading) == 5) & \n",
    "            (data_tups[i][3]['f'] in reading) &\n",
    "            (data_tups[i][3]['b'] not in reading)):   \n",
    "                data_tups[i][2][f\"{reading}\"] = 3\n",
    "        if ((len(reading) == 5) & \n",
    "            (data_tups[i][3]['f'] in reading) &\n",
    "            (data_tups[i][3]['b'] in reading)):   \n",
    "                data_tups[i][2][f\"{reading}\"] = 5\n",
    "        if (len(reading) == 6):\n",
    "            if (data_tups[i][3]['e'] not in reading):   \n",
    "                data_tups[i][2][f\"{reading}\"] = 9\n",
    "        "
   ]
  },
  {
   "cell_type": "code",
   "execution_count": 292,
   "metadata": {},
   "outputs": [],
   "source": [
    "# 6 and 0 are harder\n",
    "# If we know 5 and which character represents segment e, we can work out 6\n",
    "for i in range(0,len(data_tups)):\n",
    "    for key,value in data_tups[i][2].items():\n",
    "        if value == 5:\n",
    "            temp ={}\n",
    "            x = ''.join(sorted(key + data_tups[i][3]['e']))\n",
    "            temp[x] = 6\n",
    "    data_tups[i][2].update(temp)"
   ]
  },
  {
   "cell_type": "code",
   "execution_count": 293,
   "metadata": {},
   "outputs": [],
   "source": [
    "# Last one must be 0\n",
    "for i in range(0,len(data_tups)):\n",
    "    for signal in data_tups[i][1]:\n",
    "        if signal not in data_tups[i][2]:\n",
    "            data_tups[i][2][signal] = 0\n"
   ]
  },
  {
   "cell_type": "code",
   "execution_count": 294,
   "metadata": {},
   "outputs": [],
   "source": [
    "# Now we have the mappings, work out what the numbers are\n",
    "for i in range(0,len(data_tups)):\n",
    "    data_tups[i] = (data_tups[i][0], data_tups[i][1], data_tups[i][2], data_tups[i][3], [])\n",
    "    for signal in data_tups[i][1]:\n",
    "        for code,value in data_tups[i][2].items():\n",
    "            if sorted(signal) == sorted(code):\n",
    "                data_tups[i][4].append(value)\n",
    "\n",
    "\n"
   ]
  },
  {
   "cell_type": "code",
   "execution_count": 298,
   "metadata": {},
   "outputs": [
    {
     "name": "stdout",
     "output_type": "stream",
     "text": [
      "1043101\n"
     ]
    }
   ],
   "source": [
    "# Now add them up\n",
    "total = 0\n",
    "for i in range (0,len(data_tups)):\n",
    "    total += (data_tups[i][4][0] * 1000) + (data_tups[i][4][1] * 100) + (data_tups[i][4][2] * 10) + (data_tups[i][4][3])\n",
    "print(total)"
   ]
  }
 ],
 "metadata": {
  "interpreter": {
   "hash": "31f2aee4e71d21fbe5cf8b01ff0e069b9275f58929596ceb00d14d90e3e16cd6"
  },
  "kernelspec": {
   "display_name": "Python 3.8.9 64-bit",
   "language": "python",
   "name": "python3"
  },
  "language_info": {
   "codemirror_mode": {
    "name": "ipython",
    "version": 3
   },
   "file_extension": ".py",
   "mimetype": "text/x-python",
   "name": "python",
   "nbconvert_exporter": "python",
   "pygments_lexer": "ipython3",
   "version": "3.8.9"
  },
  "orig_nbformat": 4
 },
 "nbformat": 4,
 "nbformat_minor": 2
}
